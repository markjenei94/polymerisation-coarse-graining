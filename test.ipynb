{
 "cells": [
  {
   "cell_type": "code",
   "execution_count": 1,
   "metadata": {
    "collapsed": true,
    "pycharm": {
     "name": "#%%\n"
    }
   },
   "outputs": [
    {
     "name": "stdout",
     "output_type": "stream",
     "text": [
      "Reading data\t0.03 s\n"
     ]
    }
   ],
   "source": [
    "import numpy as np\n",
    "from dgeba_hardener.trajectory_matching_develop import TrajectoryMatching\n",
    "\n",
    "def basis_function(x, p):\n",
    "    return np.sign(x) * np.abs(x) ** p\n",
    "\n",
    "outfile = \"/home/markjenei/polymerisation-coarse-graining/dgeba_hardener/hardener/lj_trajectory_match_test.out\"\n",
    "params = range(0, -15, -1)\n",
    "simulation_timestep = 0.5\n",
    "# These parameters affect the accuracy of the fit. 'steps' = {'NVE': 2/500, 'NpT': 1/500}\n",
    "steps = 1\n",
    "timesteps_in_fit = 10\n",
    "\n",
    "proc = TrajectoryMatching(outfile_path=outfile, simulation_timestep=simulation_timestep, cutoff=15,\n",
    "                      basis=basis_function, basis_parameters=params,\n",
    "                      evrey_n_from_output=steps, timesteps_in_fit=timesteps_in_fit, system_style='molecular')"
   ]
  },
  {
   "cell_type": "code",
   "execution_count": 35,
   "outputs": [],
   "source": [
    "a = np.array([[[0,1], [2,3]], [[10, 11], [12, 13]], [[14, 15], [16, 17]]])\n",
    "b = np.repeat([[0, 1, 2]], 2, axis=0)\n",
    "b = np.repeat([b], 2, axis=0)\n",
    "b = np.array(b).T\n",
    "c = a - b\n"
   ],
   "metadata": {
    "collapsed": false,
    "pycharm": {
     "name": "#%%\n"
    }
   }
  }
 ],
 "metadata": {
  "kernelspec": {
   "display_name": "Python 3",
   "language": "python",
   "name": "python3"
  },
  "language_info": {
   "codemirror_mode": {
    "name": "ipython",
    "version": 2
   },
   "file_extension": ".py",
   "mimetype": "text/x-python",
   "name": "python",
   "nbconvert_exporter": "python",
   "pygments_lexer": "ipython2",
   "version": "2.7.6"
  }
 },
 "nbformat": 4,
 "nbformat_minor": 0
}