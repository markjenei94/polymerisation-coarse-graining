{
 "cells": [
  {
   "cell_type": "code",
   "execution_count": 1,
   "outputs": [
    {
     "name": "stderr",
     "output_type": "stream",
     "text": [
      "loading data: 100%|██████████| 10/10 [00:00<00:00, 24.37it/s]\n"
     ]
    },
    {
     "name": "stdout",
     "output_type": "stream",
     "text": [
      "preparing input\n"
     ]
    },
    {
     "name": "stderr",
     "output_type": "stream",
     "text": [
      "loading data: 100%|██████████| 10/10 [00:00<00:00, 20.74it/s]\n"
     ]
    },
    {
     "name": "stdout",
     "output_type": "stream",
     "text": [
      "preparing input\n"
     ]
    },
    {
     "name": "stderr",
     "output_type": "stream",
     "text": [
      "loading data: 100%|██████████| 10/10 [00:00<00:00, 23.62it/s]\n"
     ]
    },
    {
     "name": "stdout",
     "output_type": "stream",
     "text": [
      "preparing input\n"
     ]
    },
    {
     "name": "stderr",
     "output_type": "stream",
     "text": [
      "loading data: 100%|██████████| 10/10 [00:00<00:00, 22.62it/s]\n"
     ]
    },
    {
     "name": "stdout",
     "output_type": "stream",
     "text": [
      "preparing input\n"
     ]
    },
    {
     "name": "stderr",
     "output_type": "stream",
     "text": [
      "loading data: 100%|██████████| 10/10 [00:00<00:00, 21.92it/s]\n"
     ]
    },
    {
     "name": "stdout",
     "output_type": "stream",
     "text": [
      "preparing input\n"
     ]
    },
    {
     "name": "stderr",
     "output_type": "stream",
     "text": [
      "loading data: 100%|██████████| 10/10 [00:00<00:00, 20.83it/s]\n"
     ]
    },
    {
     "name": "stdout",
     "output_type": "stream",
     "text": [
      "preparing input\n"
     ]
    }
   ],
   "source": [
    "import numpy as np\n",
    "from trajectory_matching import TrajectoryMatching\n",
    "from misc import plot_1component\n",
    "import time\n",
    "\n",
    "def basis_function(x, p):\n",
    "    return np.sign(x) * np.abs(x) ** p\n",
    "\n",
    "steps_between_points = 2\n",
    "configurations = 10\n",
    "T = 450\n",
    "outfile = f\"/home/markjenei/polymerisation-coarse-graining/dgeba_hardener/hardener/hardener_npt_400.out\"\n",
    "PATH = \"/home/markjenei/polymerisation-coarse-graining/dgeba_hardener/hardener/\"\n",
    "\n",
    "\n",
    "params = range(-1, -21, -2)\n",
    "npt_350 = TrajectoryMatching(outfile_path=outfile, basis=basis_function, basis_parameters=params,\n",
    "                                   simulation_timestep=0.5, cutoff=60, system_style='molecular',\n",
    "                                   every_n_from_output=steps_between_points, timesteps_in_fit=configurations)\n",
    "\n",
    "npt_350.prepare_training_data()\n",
    "npt_350.weights = np.load(PATH + \"hardener_npt_350.npy\")\n",
    "\n",
    "params = range(-1, -23, -2)\n",
    "npt_400 = TrajectoryMatching(outfile_path=outfile, basis=basis_function, basis_parameters=params,\n",
    "                                   simulation_timestep=0.5, cutoff=60, system_style='molecular',\n",
    "                                   every_n_from_output=steps_between_points, timesteps_in_fit=configurations)\n",
    "\n",
    "npt_400.prepare_training_data()\n",
    "npt_400.weights = np.load(PATH + \"hardener_npt_400.npy\")\n",
    "\n",
    "params = range(-1, -23, -2)\n",
    "npt_450 = TrajectoryMatching(outfile_path=outfile, basis=basis_function, basis_parameters=params,\n",
    "                                   simulation_timestep=0.5, cutoff=60, system_style='molecular',\n",
    "                                   every_n_from_output=steps_between_points, timesteps_in_fit=configurations)\n",
    "\n",
    "npt_450.prepare_training_data()\n",
    "npt_450.weights = np.load(PATH + \"hardener_npt_450.npy\")\n",
    "\n",
    "params = range(-1, -21, -2)\n",
    "nvt_350 = TrajectoryMatching(outfile_path=outfile, basis=basis_function, basis_parameters=params,\n",
    "                                   simulation_timestep=0.5, cutoff=60, system_style='molecular',\n",
    "                                   every_n_from_output=steps_between_points, timesteps_in_fit=configurations)\n",
    "\n",
    "nvt_350.prepare_training_data()\n",
    "nvt_350.weights = np.load(PATH + \"hardener_nvt_350.npy\")\n",
    "\n",
    "params = range(-1, -23, -2)\n",
    "nvt_400 = TrajectoryMatching(outfile_path=outfile, basis=basis_function, basis_parameters=params,\n",
    "                                   simulation_timestep=0.5, cutoff=60, system_style='molecular',\n",
    "                                   every_n_from_output=steps_between_points, timesteps_in_fit=configurations)\n",
    "\n",
    "nvt_400.prepare_training_data()\n",
    "nvt_400.weights = np.load(PATH + \"hardener_nvt_400.npy\")\n",
    "\n",
    "params = range(-1, -23, -2)\n",
    "nvt_450 = TrajectoryMatching(outfile_path=outfile, basis=basis_function, basis_parameters=params,\n",
    "                                   simulation_timestep=0.5, cutoff=60, system_style='molecular',\n",
    "                                   every_n_from_output=steps_between_points, timesteps_in_fit=configurations)\n",
    "\n",
    "nvt_450.prepare_training_data()\n",
    "nvt_450.weights = np.load(PATH + \"hardener_nvt_450.npy\")"
   ],
   "metadata": {
    "collapsed": false,
    "pycharm": {
     "name": "#%%\n"
    }
   }
  },
  {
   "cell_type": "code",
   "execution_count": 2,
   "outputs": [],
   "source": [
    "x1 = np.linspace(6.75, 18, 10000)\n",
    "x2 = np.linspace(5.75, 18, 10000)\n",
    "y_npt_350 = npt_350.predict(x1)\n",
    "y_npt_400 = npt_400.predict(x1)\n",
    "y_npt_450 = npt_450.predict(x2)\n",
    "y_nvt_350 = nvt_350.predict(x1)\n",
    "y_nvt_400 = nvt_400.predict(x1)\n",
    "y_nvt_450 = nvt_450.predict(x2)\n",
    "\n"
   ],
   "metadata": {
    "collapsed": false,
    "pycharm": {
     "name": "#%%\n"
    }
   }
  },
  {
   "cell_type": "code",
   "execution_count": 16,
   "outputs": [
    {
     "name": "stderr",
     "output_type": "stream",
     "text": [
      "/home/markjenei/.local/lib/python3.8/site-packages/numpy/core/_asarray.py:136: VisibleDeprecationWarning: Creating an ndarray from ragged nested sequences (which is a list-or-tuple of lists-or-tuples-or ndarrays with different lengths or shapes) is deprecated. If you meant to do this, you must specify 'dtype=object' when creating the ndarray\n",
      "  return array(a, dtype, copy=False, order=order, subok=True)\n"
     ]
    },
    {
     "data": {
      "text/plain": "<Figure size 432x288 with 1 Axes>",
      "image/png": "[encoded data removed]"
     },
     "metadata": {
      "needs_background": "light"
     },
     "output_type": "display_data"
    }
   ],
   "source": [
    "import matplotlib.pyplot as plt\n",
    "fig, ax = plt.subplots()\n",
    "ax.axhline(0, ls='--', color=\"xkcd:silver\")\n",
    "ax.plot([min(x2), x1[np.where(y_npt_350 == min(y_npt_350))[0]]], [min(y_npt_350), min(y_npt_350)], lw=1, ls=':', color='#ffa600')\n",
    "ax.plot([min(x2), x1[np.where(y_npt_400 == min(y_npt_400))[0]]], [min(y_npt_400), min(y_npt_400)], lw=1, ls=':', color='#dd5182')\n",
    "ax.plot([min(x2), x2[np.where(y_npt_450 == min(y_npt_450))[0]]], [min(y_npt_450), min(y_npt_450)], lw=1, ls=':', color='#444e86')\n",
    "ax.plot(x2, y_nvt_450, label='T = 450 (NVT)', color='#003f5c',  ls='--')\n",
    "ax.plot(x1, y_nvt_400, label='T = 400 (NVT)', color='#955196',  ls='--')\n",
    "ax.plot(x1, y_nvt_350, label='T = 350 (NVT)', color='#ff6e54',  ls='--')\n",
    "ax.plot(x2, y_npt_450, label='T = 450 (NpT)', color='#444e86',  ls='-')\n",
    "ax.plot(x1, y_npt_400, label='T = 400 (NpT)', color='#dd5182',  ls='-')\n",
    "ax.plot(x1, y_npt_350, label='T = 350 (NpT)', color='#ffa600',  ls='-')\n",
    "ax.set_xlim(left=min(x2)-0.4)\n",
    "ax.spines[\"top\"].set_visible(False)\n",
    "ax.spines[\"right\"].set_visible(False)\n",
    "ax.spines[\"bottom\"].set_visible(False)\n",
    "ax.spines[\"left\"].set_visible(False)\n",
    "ax.legend(frameon=False)\n",
    "ax.set_title(\"Fitted force function - hardener\")\n",
    "ax.set_xlabel(r\"$r_{ij}$\")\n",
    "ax.set_ylabel(r\"$f_{ij}$\")\n",
    "plt.savefig(\"/home/markjenei/polymerisation-coarse-graining/dgeba_hardener/hardener/fitted_forces.png\", bbox_inches='tight')"
   ],
   "metadata": {
    "collapsed": false,
    "pycharm": {
     "name": "#%%\n"
    }
   }
  },
  {
   "cell_type": "markdown",
   "source": [
    "## Energies"
   ],
   "metadata": {
    "collapsed": false,
    "pycharm": {
     "name": "#%% md\n"
    }
   }
  },
  {
   "cell_type": "code",
   "execution_count": 4,
   "outputs": [
    {
     "name": "stdout",
     "output_type": "stream",
     "text": [
      "Fitting gamma\t1.3 s\n",
      "Fitting gamma\t1.09 s\n",
      "Fitting gamma\t1.12 s\n",
      "Fitting gamma\t1.09 s\n",
      "Fitting gamma\t1.08 s\n",
      "Fitting gamma\t1.06 s\n"
     ]
    }
   ],
   "source": [
    "gamma_350_npt = npt_350.fit_gamma(353)\n",
    "x_fit = np.linspace(6.5, 25, 10000)\n",
    "x_plot = np.linspace(5.7, 18, 10000)\n",
    "y_npt_350_e = npt_350.predict_energy(x_fit, x_plot, best_subset_=5)\n",
    "#plot_1component(x_plot, y_npt_350_e, title=\"Fitted energy function\", y_label=r\"$E_{ij}$\", output_path=\"/home/markjenei/polymerisation-coarse-graining/dgeba_hardener/hardener/hardener_e_npt_350.png\")\n",
    "#npt_350.write_pair_table(x_fit, 50001,\n",
    "#                               outfile_path=\"/home/markjenei/polymerisation-coarse-graining/dgeba_hardener/hardener/hardener_npt_350.table\")\n",
    "\n",
    "gamma_400_npt = npt_400.fit_gamma(403)\n",
    "y_npt_400_e = npt_400.predict_energy(x_fit, x_plot, best_subset_=5)\n",
    "#plot_1component(x_plot, y_npt_400_e, title=\"Fitted energy function\", y_label=r\"$E_{ij}$\", output_path=\"/home/markjenei/polymerisation-coarse-graining/dgeba_hardener/hardener/hardener_e_npt_400.png\")\n",
    "#npt_400.write_pair_table(x_fit, 50001,\n",
    "#                               outfile_path=\"/home/markjenei/polymerisation-coarse-graining/dgeba_hardener/hardener/hardener_npt_400.table\")\n",
    "\n",
    "gamma_450_npt = npt_450.fit_gamma(453)\n",
    "y_npt_450_e = npt_450.predict_energy(x_fit, x_plot, best_subset_=5)\n",
    "#plot_1component(x_plot, y_npt_450_e, title=\"Fitted energy function\", y_label=r\"$E_{ij}$\", output_path=\"/home/markjenei/polymerisation-coarse-graining/dgeba_hardener/hardener/hardener_e_npt_350.png\")\n",
    "#npt_450.write_pair_table(x_fit, 50001,\n",
    "#                               outfile_path=\"/home/markjenei/polymerisation-coarse-graining/dgeba_hardener/hardener/hardener_npt_450.table\")\n",
    "\n",
    "gamma_350_nvt = nvt_350.fit_gamma(353)\n",
    "y_nvt_350_e = nvt_350.predict_energy(x_fit, x_plot, best_subset_=4)\n",
    "#plot_1component(x_plot, y_nvt_350_e, title=\"Fitted energy function\", y_label=r\"$E_{ij}$\", output_path=\"/home/markjenei/polymerisation-coarse-graining/dgeba_hardener/hardener/hardener_e_nvt_350.png\")\n",
    "#nvt_350.write_pair_table(x_fit, 50001,\n",
    "#                               outfile_path=\"/home/markjenei/polymerisation-coarse-graining/dgeba_hardener/hardener/hardener_nvt_350.table\")\n",
    "\n",
    "gamma_400_nvt = nvt_400.fit_gamma(403)\n",
    "y_nvt_400_e = nvt_400.predict_energy(x_fit, x_plot, best_subset_=4)\n",
    "#plot_1component(x_plot, y_nvt_400_e, title=\"Fitted energy function\", y_label=r\"$E_{ij}$\", output_path=\"/home/markjenei/polymerisation-coarse-graining/dgeba_hardener/hardener/hardener_e_nvt_400.png\")\n",
    "#npt_400.write_pair_table(x_fit, 50001,\n",
    "#                               outfile_path=\"/home/markjenei/polymerisation-coarse-graining/dgeba_hardener/hardener/hardener_nvt_400.table\")\n",
    "\n",
    "gamma_450_nvt = nvt_450.fit_gamma(453)\n",
    "y_nvt_450_e = nvt_450.predict_energy(x_fit, x_plot, best_subset_=5)\n",
    "\n",
    "#plot_1component(x_plot, y_nvt_450_e, title=\"Fitted energy function\", y_label=r\"$E_{ij}$\", output_path=\"/home/markjenei/polymerisation-coarse-graining/dgeba_hardener/hardener/hardener_e_nvt_450.png\")\n",
    "#npt_450.write_pair_table(x_fit, 50001,\n",
    "#                               outfile_path=\"/home/markjenei/polymerisation-coarse-graining/dgeba_hardener/hardener/hardener_nvt_450.table\")"
   ],
   "metadata": {
    "collapsed": false,
    "pycharm": {
     "name": "#%%\n"
    }
   }
  },
  {
   "cell_type": "code",
   "execution_count": 24,
   "outputs": [
    {
     "name": "stderr",
     "output_type": "stream",
     "text": [
      "/home/markjenei/.local/lib/python3.8/site-packages/numpy/core/_asarray.py:136: VisibleDeprecationWarning: Creating an ndarray from ragged nested sequences (which is a list-or-tuple of lists-or-tuples-or ndarrays with different lengths or shapes) is deprecated. If you meant to do this, you must specify 'dtype=object' when creating the ndarray\n",
      "  return array(a, dtype, copy=False, order=order, subok=True)\n"
     ]
    },
    {
     "data": {
      "text/plain": "<Figure size 432x288 with 1 Axes>",
      "image/png": "[encoded data removed]"
     },
     "metadata": {
      "needs_background": "light"
     },
     "output_type": "display_data"
    }
   ],
   "source": [
    "fig2, ax2 = plt.subplots()\n",
    "\n",
    "ax2.axhline(0, ls='--', color=\"xkcd:silver\")\n",
    "ax2.plot([min(x_plot), x_plot[np.where(y_npt_350_e == min(y_npt_350_e))[0]]], [min(y_npt_350_e), min(y_npt_350_e)], lw=1, ls=':', color='#ffa600')\n",
    "ax2.plot([min(x_plot), x_plot[np.where(y_npt_400_e == min(y_npt_400_e))[0]]], [min(y_npt_400_e), min(y_npt_400_e)], lw=1, ls=':', color='#dd5182')\n",
    "ax2.plot([min(x_plot), x_plot[np.where(y_npt_450_e == min(y_npt_450_e))[0]]], [min(y_npt_450_e), min(y_npt_450_e)], lw=1, ls=':', color='#444e86')\n",
    "ax2.plot(x_plot, y_nvt_450_e, label='T = 450 (NVT)', color='#003f5c',  ls='--')\n",
    "ax2.plot(x_plot, y_nvt_400_e, label='T = 400 (NVT)', color='#955196',  ls='--')\n",
    "ax2.plot(x_plot, y_nvt_350_e, label='T = 350 (NVT)', color='#ff6e54',  ls='--')\n",
    "ax2.plot(x_plot, y_npt_450_e, label='T = 450 (NpT)', color='#444e86',  ls='-')\n",
    "ax2.plot(x_plot, y_npt_400_e, label='T = 400 (NpT)', color='#dd5182',  ls='-')\n",
    "ax2.plot(x_plot, y_npt_350_e, label='T = 350 (NpT)', color='#ffa600',  ls='-')\n",
    "ax2.set_xlim(left=min(x_plot)-0.5)\n",
    "ax2.legend(frameon=False)\n",
    "ax2.set_title(\"Fitted energy function - hardener\")\n",
    "ax2.set_xlabel(r\"$r_{ij}$\")\n",
    "ax2.set_ylabel(r\"$E_{ij}$\")\n",
    "ax2.spines[\"top\"].set_visible(False)\n",
    "ax2.spines[\"right\"].set_visible(False)\n",
    "ax2.spines[\"bottom\"].set_visible(False)\n",
    "ax2.spines[\"left\"].set_visible(False)\n",
    "plt.savefig(\"/home/markjenei/polymerisation-coarse-graining/dgeba_hardener/hardener/fitted_energies.png\", bbox_inches='tight')"
   ],
   "metadata": {
    "collapsed": false,
    "pycharm": {
     "name": "#%%\n"
    }
   }
  },
  {
   "cell_type": "code",
   "execution_count": 6,
   "outputs": [
    {
     "name": "stdout",
     "output_type": "stream",
     "text": [
      "NpT gamma's 350/400/450\n",
      "\n",
      "23.951537792321847\n",
      "21.689743613300266\n",
      "19.783646089846044\n",
      "\n",
      "NVT gamma's 350/400/450\n",
      "\n",
      "23.9514066629605\n",
      "21.68871901936183\n",
      "19.78175808631601\n"
     ]
    }
   ],
   "source": [
    "print(\"NpT gamma's 350/400/450\\n\")\n",
    "print(gamma_350_npt)\n",
    "print(gamma_400_npt)\n",
    "print(gamma_450_npt)\n",
    "print(\"\\nNVT gamma's 350/400/450\\n\")\n",
    "print(gamma_350_nvt)\n",
    "print(gamma_400_nvt)\n",
    "print(gamma_450_nvt)"
   ],
   "metadata": {
    "collapsed": false,
    "pycharm": {
     "name": "#%%\n"
    }
   }
  }
 ],
 "metadata": {
  "kernelspec": {
   "name": "pycharm-bf154dcd",
   "language": "python",
   "display_name": "PyCharm (polymerisation-coarse-graining)"
  },
  "language_info": {
   "codemirror_mode": {
    "name": "ipython",
    "version": 2
   },
   "file_extension": ".py",
   "mimetype": "text/x-python",
   "name": "python",
   "nbconvert_exporter": "python",
   "pygments_lexer": "ipython2",
   "version": "2.7.6"
  }
 },
 "nbformat": 4,
 "nbformat_minor": 0
}