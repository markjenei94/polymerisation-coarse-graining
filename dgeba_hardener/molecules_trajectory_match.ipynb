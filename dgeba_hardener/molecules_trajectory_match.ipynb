{
 "cells": [
  {
   "cell_type": "markdown",
   "source": [
    "### Hardener - P4A"
   ],
   "metadata": {
    "collapsed": false,
    "pycharm": {
     "name": "#%% md\n"
    }
   }
  },
  {
   "cell_type": "code",
   "execution_count": 3,
   "outputs": [
    {
     "name": "stdout",
     "output_type": "stream",
     "text": [
      "Reading data\t70.91 s\n",
      "Preparing input\t3.95 s\n"
     ]
    },
    {
     "data": {
      "text/plain": "<Figure size 432x288 with 1 Axes>",
      "image/png": "[encoded data removed]"
     },
     "metadata": {
      "needs_background": "light"
     },
     "output_type": "display_data"
    }
   ],
   "source": [
    "import numpy as np\n",
    "from trajectory_matching import TrajectoryMatching\n",
    "from misc import plot_1component\n",
    "\n",
    "def basis_function(x, p):\n",
    "    return np.sign(x) * np.abs(x) ** p\n",
    "\n",
    "outfile = \"/home/markjenei/polymerisation-coarse-graining/dgeba_hardener/hardener/hardener_trajectory_match.out\"\n",
    "params = range(0, -15, -2)\n",
    "simulation_timestep = 0.5\n",
    "# These parameters affect the accuracy of the fit. 'steps' = {'NVE': , 'NpT': 3/400}\n",
    "steps = 3\n",
    "timesteps_in_fit = 400\n",
    "\n",
    "proc = TrajectoryMatching(outfile_path=outfile, simulation_timestep=simulation_timestep, cutoff=15,\n",
    "                      basis=basis_function, basis_parameters=params,\n",
    "                      every_n_from_output=steps, timesteps_in_fit=timesteps_in_fit,\n",
    "                      system_style='molecular')\n",
    "\n",
    "proc.prepare_training_data()\n",
    "proc.regress(method='bayesian')\n",
    "\n",
    "x = np.linspace(4.6, 15, 1000)\n",
    "y_fit = proc.predict(x)[0]\n",
    "plot_1component(x, y_fit)"
   ],
   "metadata": {
    "collapsed": false,
    "pycharm": {
     "name": "#%%\n"
    }
   }
  },
  {
   "cell_type": "code",
   "execution_count": 1,
   "outputs": [
    {
     "data": {
      "text/plain": "'\\nfor steps in [2,3,4,5,6,7,8]:\\n    for timesteps_in_fit in [100, 200, 300, 400, 500]:\\n        proc = TrajectoryMatching(outfile_path=outfile, simulation_timestep=simulation_timestep, cutoff=15,\\n                              basis=basis_function, basis_parameters=params,\\n                              every_n_from_output=steps, timesteps_in_fit=timesteps_in_fit,\\n                              system_style=\\'molecular\\')\\n\\n        proc.prepare_training_data()\\n        proc.regress(method=\\'bayesian\\')\\n\\n        x = np.linspace(4.6, 15, 1000)\\n        y_fit = proc.predict(x)[0]\\n        plot_1component(x, y_fit, thermostat=\\'NpT\\', output_path=f\"/home/markjenei/polymerisation-coarse-graining/dgeba_hardener/hardener/tm_npt_{steps}_{timesteps_in_fit}.png\")\\n'"
     },
     "execution_count": 1,
     "metadata": {},
     "output_type": "execute_result"
    }
   ],
   "source": [
    "import numpy as np\n",
    "from trajectory_matching import TrajectoryMatching\n",
    "from misc import plot_1component\n",
    "\n",
    "def basis_function(x, p):\n",
    "    return np.sign(x) * np.abs(x) ** p\n",
    "\n",
    "outfile = \"/home/markjenei/polymerisation-coarse-graining/dgeba_hardener/hardener/hardener_trajectory_match_test.out\"\n",
    "params = range(0, -15, -2)\n",
    "simulation_timestep = 0.5\n",
    "# These parameters affect the accuracy of the fit. 'steps' = {'NVE': , 'NpT': }\n",
    "\n",
    "for steps in [2,3,4,5,6,7,8]:\n",
    "    for timesteps_in_fit in [100, 200, 300, 400, 500]:\n",
    "        proc = TrajectoryMatching(outfile_path=outfile, simulation_timestep=simulation_timestep, cutoff=15,\n",
    "                              basis=basis_function, basis_parameters=params,\n",
    "                              every_n_from_output=steps, timesteps_in_fit=timesteps_in_fit,\n",
    "                              system_style='molecular')\n",
    "\n",
    "        proc.prepare_training_data()\n",
    "        proc.regress(method='bayesian')\n",
    "\n",
    "        x = np.linspace(4.6, 15, 1000)\n",
    "        y_fit = proc.predict(x)[0]\n",
    "        plot_1component(x, y_fit, thermostat='NpT', output_path=f\"/home/markjenei/polymerisation-coarse-graining/dgeba_hardener/hardener/tm_npt_{steps}_{timesteps_in_fit}.png\")"
   ],
   "metadata": {
    "collapsed": false,
    "pycharm": {
     "name": "#%%\n"
    }
   }
  },
  {
   "cell_type": "markdown",
   "source": [
    "### Epoxy - DGEBA"
   ],
   "metadata": {
    "collapsed": false
   }
  },
  {
   "cell_type": "code",
   "execution_count": 4,
   "outputs": [
    {
     "name": "stdout",
     "output_type": "stream",
     "text": [
      "Reading data\t74.26 s\n",
      "Preparing input\t2.1 s\n"
     ]
    },
    {
     "data": {
      "text/plain": "<Figure size 432x288 with 1 Axes>",
      "image/png": "[encoded data removed]"
     },
     "metadata": {
      "needs_background": "light"
     },
     "output_type": "display_data"
    }
   ],
   "source": [
    "import numpy as np\n",
    "from trajectory_matching import TrajectoryMatching\n",
    "from misc import plot_1component\n",
    "\n",
    "def basis_function(x, p):\n",
    "    return np.sign(x) * np.abs(x) ** p\n",
    "\n",
    "outfile = \"/home/markjenei/polymerisation-coarse-graining/dgeba_hardener/epoxy/epoxy_trajectory_match_test.out\"\n",
    "params = range(0, -15, -2)\n",
    "simulation_timestep = 0.2\n",
    "# These parameters affect the accuracy of the fit. 'steps' = {'NVE': , 'NpT': 3/400}\n",
    "steps = 8\n",
    "timesteps_in_fit = 100\n",
    "\n",
    "proc = TrajectoryMatching(outfile_path=outfile, simulation_timestep=simulation_timestep, cutoff=15,\n",
    "                      basis=basis_function, basis_parameters=params,\n",
    "                      every_n_from_output=steps, timesteps_in_fit=timesteps_in_fit,\n",
    "                      system_style='molecular')\n",
    "\n",
    "proc.prepare_training_data()\n",
    "proc.regress(method='bayesian')\n",
    "\n",
    "x = np.linspace(4.6, 25, 1000)\n",
    "y_fit = proc.predict(x)[0]\n",
    "plot_1component(x, y_fit)"
   ],
   "metadata": {
    "collapsed": false,
    "pycharm": {
     "name": "#%%\n"
    }
   }
  },
  {
   "cell_type": "code",
   "execution_count": 5,
   "outputs": [
    {
     "name": "stdout",
     "output_type": "stream",
     "text": [
      "0.12594054657902393\n"
     ]
    }
   ],
   "source": [
    "print(min(y_fit))"
   ],
   "metadata": {
    "collapsed": false,
    "pycharm": {
     "name": "#%%\n"
    }
   }
  },
  {
   "cell_type": "code",
   "execution_count": null,
   "outputs": [
    {
     "name": "stdout",
     "output_type": "stream",
     "text": [
      "Reading data\t67.28 s\n",
      "Preparing input\t7.29 s\n",
      "Reading data\t79.74 s\n",
      "Preparing input\t9.66 s\n",
      "Reading data\t"
     ]
    }
   ],
   "source": [
    "import numpy as np\n",
    "from trajectory_matching import TrajectoryMatching\n",
    "from misc import plot_1component\n",
    "\n",
    "def basis_function(x, p):\n",
    "    return np.sign(x) * np.abs(x) ** p\n",
    "\n",
    "outfile = \"/home/markjenei/polymerisation-coarse-graining/dgeba_hardener/epoxy/epoxy_trajectory_match_test.out\"\n",
    "params = range(0, -15, -2)\n",
    "simulation_timestep = 0.2\n",
    "# These parameters affect the accuracy of the fit. 'steps' = {'NVE': , 'NpT': }\n",
    "\n",
    "for steps in [4]:\n",
    "    for timesteps_in_fit in range(390, 410):\n",
    "        proc = TrajectoryMatching(outfile_path=outfile, simulation_timestep=simulation_timestep, cutoff=15,\n",
    "                              basis=basis_function, basis_parameters=params,\n",
    "                              every_n_from_output=steps, timesteps_in_fit=timesteps_in_fit,\n",
    "                              system_style='molecular')\n",
    "\n",
    "        proc.prepare_training_data()\n",
    "        proc.regress(method='bayesian')\n",
    "\n",
    "        x = np.linspace(4.6, 25, 1000)\n",
    "        y_fit = proc.predict(x)[0]\n",
    "        plot_1component(x, y_fit, thermostat='NpT', output_path=f\"/home/markjenei/polymerisation-coarse-graining/dgeba_hardener/epoxy/tm_npt_{steps}_{timesteps_in_fit}.png\")"
   ],
   "metadata": {
    "collapsed": false,
    "pycharm": {
     "name": "#%%\n",
     "is_executing": true
    }
   }
  }
 ],
 "metadata": {
  "kernelspec": {
   "display_name": "Python 3",
   "language": "python",
   "name": "python3"
  },
  "language_info": {
   "codemirror_mode": {
    "name": "ipython",
    "version": 2
   },
   "file_extension": ".py",
   "mimetype": "text/x-python",
   "name": "python",
   "nbconvert_exporter": "python",
   "pygments_lexer": "ipython2",
   "version": "2.7.6"
  }
 },
 "nbformat": 4,
 "nbformat_minor": 0
}