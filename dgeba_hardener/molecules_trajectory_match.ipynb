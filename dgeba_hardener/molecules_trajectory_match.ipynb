{
 "cells": [
  {
   "cell_type": "markdown",
   "source": [
    "### Hardener - P4A"
   ],
   "metadata": {
    "collapsed": false,
    "pycharm": {
     "name": "#%% md\n"
    }
   }
  },
  {
   "cell_type": "code",
   "execution_count": 1,
   "outputs": [
    {
     "name": "stdout",
     "output_type": "stream",
     "text": [
      "Reading data\t50.43 s\n",
      "Preparing input\t14.79 s\n"
     ]
    },
    {
     "data": {
      "text/plain": "<Figure size 432x288 with 1 Axes>",
      "image/png": "[encoded data removed]"
     },
     "metadata": {
      "needs_background": "light"
     },
     "output_type": "display_data"
    }
   ],
   "source": [
    "import numpy as np\n",
    "from trajectory_matching import TrajectoryMatching\n",
    "from misc import plot_1component\n",
    "\n",
    "def basis_function(x, p):\n",
    "    return np.sign(x) * np.abs(x) ** p\n",
    "\n",
    "outfile = \"D:/CAM/PhD_Year3/ML_CG/polymerisation-coarse-graining/dgeba_hardener/hardener/hardener_trajectory_match.out\"\n",
    "params = range(0, -15, -2)\n",
    "simulation_timestep = 0.5\n",
    "# These parameters affect the accuracy of the fit. 'steps' = {'NVE': , 'NpT': 3/400}\n",
    "steps = 3\n",
    "timesteps_in_fit = 252\n",
    "\n",
    "proc = TrajectoryMatching(outfile_path=outfile, simulation_timestep=simulation_timestep, cutoff=26,\n",
    "                      basis=basis_function, basis_parameters=params,\n",
    "                      every_n_from_output=steps, timesteps_in_fit=timesteps_in_fit,\n",
    "                      system_style='molecular', op_sys='W')\n",
    "\n",
    "\n",
    "proc.prepare_training_data()\n",
    "proc.regress(method='bayesian')\n",
    "\n",
    "x = np.linspace(4.8, 28, 1000)\n",
    "y_fit = proc.predict(x)[0]\n",
    "plot_1component(x, y_fit, thermostat='NpT', output_path=\"D:/CAM/PhD_Year3/ML_CG/polymerisation-coarse-graining/dgeba_hardener/hardener/hardener_npt_fit.png\")"
   ],
   "metadata": {
    "collapsed": false,
    "pycharm": {
     "name": "#%%\n"
    }
   }
  },
  {
   "cell_type": "markdown",
   "source": [
    "### Epoxy - DGEBA"
   ],
   "metadata": {
    "collapsed": false
   }
  },
  {
   "cell_type": "code",
   "execution_count": 1,
   "outputs": [
    {
     "name": "stdout",
     "output_type": "stream",
     "text": [
      "Reading data\t119.92 s\n",
      "Preparing input\t14.13 s\n"
     ]
    },
    {
     "data": {
      "text/plain": "<Figure size 432x288 with 1 Axes>",
      "image/png": "[encoded data removed]"
     },
     "metadata": {
      "needs_background": "light"
     },
     "output_type": "display_data"
    }
   ],
   "source": [
    "import numpy as np\n",
    "from trajectory_matching import TrajectoryMatching\n",
    "from misc import plot_1component\n",
    "\n",
    "def basis_function(x, p):\n",
    "    return np.sign(x) * np.abs(x) ** p\n",
    "\n",
    "outfile = \"D:/CAM/PhD_Year3/ML_CG/polymerisation-coarse-graining/dgeba_hardener/epoxy/epoxy_trajectory_match_test.out\"\n",
    "params = range(0, -15, -2)\n",
    "simulation_timestep = 0.2\n",
    "# These parameters affect the accuracy of the fit. 'steps' = {'NVE': , 'NpT': 3/400}\n",
    "steps = 3\n",
    "timesteps_in_fit = 341\n",
    "\n",
    "proc = TrajectoryMatching(outfile_path=outfile, simulation_timestep=simulation_timestep, cutoff=31,\n",
    "                      basis=basis_function, basis_parameters=params,\n",
    "                      every_n_from_output=steps, timesteps_in_fit=timesteps_in_fit,\n",
    "                      system_style='molecular', op_sys=\"W\")\n",
    "\n",
    "proc.prepare_training_data()\n",
    "proc.regress(method='bayesian')\n",
    "\n",
    "x = np.linspace(5.25, 50, 1000)\n",
    "y_fit = proc.predict(x)[0]\n",
    "plot_1component(x, y_fit, thermostat=\"NpT\", output_path=\"D:/CAM/PhD_Year3/ML_CG/polymerisation-coarse-graining/dgeba_hardener/figs/epoxy_npt_fit.png\")"
   ],
   "metadata": {
    "collapsed": false,
    "pycharm": {
     "name": "#%%\n"
    }
   }
  },
  {
   "cell_type": "code",
   "execution_count": 2,
   "outputs": [],
   "source": [
    "import numpy as np\n",
    "from trajectory_matching import TrajectoryMatching\n",
    "from misc import plot_1component\n",
    "\n",
    "def basis_function(x, p):\n",
    "    return np.sign(x) * np.abs(x) ** p\n",
    "\n",
    "outfile = \"D:/CAM/PhD_Year3/ML_CG/polymerisation-coarse-graining/dgeba_hardener/epoxy/epoxy_trajectory_match_test.out\"\n",
    "params = range(0, -15, -2)\n",
    "simulation_timestep = 0.2\n",
    "# These parameters affect the accuracy of the fit. 'steps' = {'NVE': , 'NpT': }\n",
    "\n",
    "for steps in [3]:\n",
    "    for timesteps_in_fit in range(340, 341, 2):\n",
    "        for cutoff in [31]:\n",
    "            proc = TrajectoryMatching(outfile_path=outfile, simulation_timestep=simulation_timestep, cutoff=cutoff,\n",
    "                                  basis=basis_function, basis_parameters=params,\n",
    "                                  every_n_from_output=steps, timesteps_in_fit=timesteps_in_fit,\n",
    "                                  system_style='molecular', op_sys=\"W\")\n",
    "\n",
    "            proc.prepare_training_data()\n",
    "            proc.regress(method='bayesian')\n",
    "\n",
    "            x = np.linspace(5.25, 50, 1000)\n",
    "            y_fit = proc.predict(x)[0]\n",
    "            plot_1component(x, y_fit, thermostat='NpT', output_path=f\"D:/CAM/PhD_Year3/ML_CG/polymerisation-coarse-graining/dgeba_hardener/epoxy/tm_npt_{steps}_{timesteps_in_fit}_{cutoff}.png\")"
   ],
   "metadata": {
    "collapsed": false,
    "pycharm": {
     "name": "#%%\n"
    }
   }
  }
 ],
 "metadata": {
  "kernelspec": {
   "display_name": "Python 3",
   "language": "python",
   "name": "python3"
  },
  "language_info": {
   "codemirror_mode": {
    "name": "ipython",
    "version": 2
   },
   "file_extension": ".py",
   "mimetype": "text/x-python",
   "name": "python",
   "nbconvert_exporter": "python",
   "pygments_lexer": "ipython2",
   "version": "2.7.6"
  }
 },
 "nbformat": 4,
 "nbformat_minor": 0
}