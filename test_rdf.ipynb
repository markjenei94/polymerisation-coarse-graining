{
 "cells": [
  {
   "cell_type": "code",
   "execution_count": 1,
   "outputs": [],
   "source": [
    "import matplotlib.pyplot as plt\n",
    "import numpy as np\n",
    "from trajectory_matching import TrajectoryMatching\n",
    "from misc import mean_squared_displacement as msd, density\n",
    "\n",
    "def basis_function(x, p):\n",
    "    return np.sign(x) * np.abs(x) ** p\n",
    "\n",
    "steps_between_points = 40\n",
    "configurations = 500\n",
    "params = range(-1, -5, -2)"
   ],
   "metadata": {
    "collapsed": false,
    "pycharm": {
     "name": "#%%\n"
    }
   }
  },
  {
   "cell_type": "code",
   "execution_count": 2,
   "outputs": [
    {
     "name": "stdout",
     "output_type": "stream",
     "text": [
      "T = 350\n",
      "loading data\t\n"
     ]
    },
    {
     "name": "stderr",
     "output_type": "stream",
     "text": [
      "100%|██████████| 500/500 [01:29<00:00,  5.57it/s]\n"
     ]
    },
    {
     "name": "stdout",
     "output_type": "stream",
     "text": [
      "103.94 s\n",
      "preparing input\t\n"
     ]
    },
    {
     "name": "stderr",
     "output_type": "stream",
     "text": [
      "100%|██████████| 500/500 [00:00<00:00, 1296138.44it/s]\n"
     ]
    },
    {
     "name": "stdout",
     "output_type": "stream",
     "text": [
      "22.32 s\n",
      "density: 0.5958035651749449 g/cm3\n",
      "\n",
      "\n",
      "T = 350\n",
      "loading data\t\n"
     ]
    },
    {
     "name": "stderr",
     "output_type": "stream",
     "text": [
      "100%|██████████| 500/500 [01:28<00:00,  5.65it/s]\n"
     ]
    },
    {
     "name": "stdout",
     "output_type": "stream",
     "text": [
      "102.24 s\n",
      "preparing input\t\n"
     ]
    },
    {
     "name": "stderr",
     "output_type": "stream",
     "text": [
      "100%|██████████| 500/500 [00:00<00:00, 1397169.89it/s]\n"
     ]
    },
    {
     "name": "stdout",
     "output_type": "stream",
     "text": [
      "22.09 s\n",
      "\n",
      "\n",
      "T = 400\n",
      "loading data\t\n"
     ]
    },
    {
     "name": "stderr",
     "output_type": "stream",
     "text": [
      "100%|██████████| 500/500 [01:27<00:00,  5.68it/s]\n"
     ]
    },
    {
     "name": "stdout",
     "output_type": "stream",
     "text": [
      "101.52 s\n",
      "preparing input\t\n"
     ]
    },
    {
     "name": "stderr",
     "output_type": "stream",
     "text": [
      "100%|██████████| 500/500 [00:00<00:00, 1307451.37it/s]\n"
     ]
    },
    {
     "name": "stdout",
     "output_type": "stream",
     "text": [
      "27.22 s\n",
      "density: 0.47416657971525444 g/cm3\n",
      "\n",
      "\n",
      "T = 400\n",
      "loading data\t\n"
     ]
    },
    {
     "name": "stderr",
     "output_type": "stream",
     "text": [
      "100%|██████████| 500/500 [01:28<00:00,  5.65it/s]\n"
     ]
    },
    {
     "name": "stdout",
     "output_type": "stream",
     "text": [
      "102.22 s\n",
      "preparing input\t\n"
     ]
    },
    {
     "name": "stderr",
     "output_type": "stream",
     "text": [
      "100%|██████████| 500/500 [00:00<00:00, 1375181.64it/s]\n"
     ]
    },
    {
     "name": "stdout",
     "output_type": "stream",
     "text": [
      "27.08 s\n",
      "\n",
      "\n",
      "T = 450\n",
      "loading data\t\n"
     ]
    },
    {
     "name": "stderr",
     "output_type": "stream",
     "text": [
      "100%|██████████| 500/500 [01:29<00:00,  5.60it/s]\n"
     ]
    },
    {
     "name": "stdout",
     "output_type": "stream",
     "text": [
      "103.02 s\n",
      "preparing input\t\n"
     ]
    },
    {
     "name": "stderr",
     "output_type": "stream",
     "text": [
      "100%|██████████| 500/500 [00:00<00:00, 799829.14it/s]\n"
     ]
    },
    {
     "name": "stdout",
     "output_type": "stream",
     "text": [
      "27.19 s\n",
      "density: 0.004288230503430113 g/cm3\n",
      "\n",
      "\n",
      "T = 450\n",
      "loading data\t\n"
     ]
    },
    {
     "name": "stderr",
     "output_type": "stream",
     "text": [
      "100%|██████████| 500/500 [01:28<00:00,  5.67it/s]\n"
     ]
    },
    {
     "name": "stdout",
     "output_type": "stream",
     "text": [
      "102.06 s\n",
      "preparing input\t\n"
     ]
    },
    {
     "name": "stderr",
     "output_type": "stream",
     "text": [
      "100%|██████████| 500/500 [00:00<00:00, 1372481.68it/s]\n"
     ]
    },
    {
     "name": "stdout",
     "output_type": "stream",
     "text": [
      "26.92 s\n",
      "\n",
      "\n"
     ]
    }
   ],
   "source": [
    "T = 350\n",
    "print(f\"T = {T}\")\n",
    "outfile = f\"/home/markjenei/polymerisation-coarse-graining/dgeba_hardener/hardener/hardener_npt_{T}.out\"\n",
    "hardener_tm = TrajectoryMatching(outfile_path=outfile, basis=basis_function, basis_parameters=params,\n",
    "                                   simulation_timestep=0.5, cutoff=50, system_style='molecular',\n",
    "                                   every_n_from_output=steps_between_points, timesteps_in_fit=configurations)\n",
    "hardener_tm.prepare_training_data()\n",
    "density(hardener_tm)\n",
    "print(\"\\n\")\n",
    "r_npt_350, g_ave_npt_350 = hardener_tm.plot_rdf(outfile_path=f\"/home/markjenei/polymerisation-coarse-graining/dgeba_hardener/hardener/hardener_rdf_npt_{T}.png\", plot=False)\n",
    "msd_npt_350 = msd(hardener_tm.r)\n",
    "\n",
    "T = 350\n",
    "print(f\"T = {T}\")\n",
    "\n",
    "outfile = f\"/home/markjenei/polymerisation-coarse-graining/dgeba_hardener/hardener/hardener_nvt_{T}.out\"\n",
    "hardener_tm = TrajectoryMatching(outfile_path=outfile, basis=basis_function, basis_parameters=params,\n",
    "                                   simulation_timestep=0.5, cutoff=50, system_style='molecular',\n",
    "                                   every_n_from_output=steps_between_points, timesteps_in_fit=configurations)\n",
    "hardener_tm.prepare_training_data()\n",
    "print(\"\\n\")\n",
    "r_nvt_350, g_ave_nvt_350 = hardener_tm.plot_rdf(outfile_path=f\"/home/markjenei/polymerisation-coarse-graining/dgeba_hardener/hardener/hardener_rdf_nvt_{T}.png\", plot=False)\n",
    "msd_nvt_350 = msd(hardener_tm.r)\n",
    "\n",
    "T = 400\n",
    "print(f\"T = {T}\")\n",
    "outfile = f\"/home/markjenei/polymerisation-coarse-graining/dgeba_hardener/hardener/hardener_npt_{T}.out\"\n",
    "hardener_tm = TrajectoryMatching(outfile_path=outfile, basis=basis_function, basis_parameters=params,\n",
    "                                   simulation_timestep=0.5, cutoff=50, system_style='molecular',\n",
    "                                   every_n_from_output=steps_between_points, timesteps_in_fit=configurations)\n",
    "hardener_tm.prepare_training_data()\n",
    "density(hardener_tm)\n",
    "print(\"\\n\")\n",
    "r_npt_400, g_ave_npt_400 = hardener_tm.plot_rdf(outfile_path=f\"/home/markjenei/polymerisation-coarse-graining/dgeba_hardener/hardener/hardener_rdf_npt_{T}.png\", plot=False)\n",
    "msd_npt_400 = msd(hardener_tm.r)\n",
    "\n",
    "T = 400\n",
    "print(f\"T = {T}\")\n",
    "\n",
    "outfile = f\"/home/markjenei/polymerisation-coarse-graining/dgeba_hardener/hardener/hardener_nvt_{T}.out\"\n",
    "hardener_tm = TrajectoryMatching(outfile_path=outfile, basis=basis_function, basis_parameters=params,\n",
    "                                   simulation_timestep=0.5, cutoff=50, system_style='molecular',\n",
    "                                   every_n_from_output=steps_between_points, timesteps_in_fit=configurations)\n",
    "hardener_tm.prepare_training_data()\n",
    "print(\"\\n\")\n",
    "r_nvt_400, g_ave_nvt_400 = hardener_tm.plot_rdf(outfile_path=f\"/home/markjenei/polymerisation-coarse-graining/dgeba_hardener/hardener/hardener_rdf_nvt_{T}.png\", plot=False)\n",
    "msd_nvt_400 = msd(hardener_tm.r)\n",
    "\n",
    "T = 450\n",
    "print(f\"T = {T}\")\n",
    "outfile = f\"/home/markjenei/polymerisation-coarse-graining/dgeba_hardener/hardener/hardener_npt_{T}.out\"\n",
    "hardener_tm = TrajectoryMatching(outfile_path=outfile, basis=basis_function, basis_parameters=params,\n",
    "                                   simulation_timestep=0.5, cutoff=50, system_style='molecular',\n",
    "                                   every_n_from_output=steps_between_points, timesteps_in_fit=configurations)\n",
    "hardener_tm.prepare_training_data()\n",
    "density(hardener_tm)\n",
    "print(\"\\n\")\n",
    "r_npt_450, g_ave_npt_450 = hardener_tm.plot_rdf(outfile_path=f\"/home/markjenei/polymerisation-coarse-graining/dgeba_hardener/hardener/hardener_rdf_npt_{T}.png\", plot=False)\n",
    "msd_npt_450 = msd(hardener_tm.r)\n",
    "\n",
    "T = 450\n",
    "print(f\"T = {T}\")\n",
    "\n",
    "outfile = f\"/home/markjenei/polymerisation-coarse-graining/dgeba_hardener/hardener/hardener_nvt_{T}.out\"\n",
    "hardener_tm = TrajectoryMatching(outfile_path=outfile, basis=basis_function, basis_parameters=params,\n",
    "                                   simulation_timestep=0.5, cutoff=50, system_style='molecular',\n",
    "                                   every_n_from_output=steps_between_points, timesteps_in_fit=configurations)\n",
    "hardener_tm.prepare_training_data()\n",
    "print(\"\\n\")\n",
    "r_nvt_450, g_ave_nvt_450 = hardener_tm.plot_rdf(outfile_path=f\"/home/markjenei/polymerisation-coarse-graining/dgeba_hardener/hardener/hardener_rdf_nvt_{T}.png\", plot=False)\n",
    "msd_nvt_450 = msd(hardener_tm.r)"
   ],
   "metadata": {
    "collapsed": false,
    "pycharm": {
     "name": "#%%\n"
    }
   }
  },
  {
   "cell_type": "code",
   "execution_count": 22,
   "outputs": [
    {
     "data": {
      "text/plain": "<Figure size 432x288 with 1 Axes>",
      "image/png": "[encoded data removed]"
     },
     "metadata": {
      "needs_background": "light"
     },
     "output_type": "display_data"
    }
   ],
   "source": [
    "fig, ax = plt.subplots()\n",
    "ax.plot(r_npt_350, g_ave_npt_350, label='T = 350 (NpT)', ls='-', color='#ffa600')\n",
    "ax.plot(r_nvt_350, g_ave_nvt_350, label='T = 350 (NVT)', ls='--', color='#ff6e54')\n",
    "ax.plot(r_npt_400, g_ave_npt_400, label='T = 350 (NpT)', ls='-', color='#dd5182')\n",
    "ax.plot(r_nvt_400, g_ave_nvt_400, label='T = 350 (NVT)', ls='--', color='#955196')\n",
    "#ax.plot(r_npt_450, g_ave_npt_450, ls='-', color='#444e86')\n",
    "#ax.plot(r_nvt_450, g_ave_nvt_450, ls='--', color='#003f5c')\n",
    "ax.legend(frameon=False)\n",
    "ax.set_xlabel(\"r\")\n",
    "ax.set_ylabel(\"RDF\")\n",
    "ax.set_title(\"Radial distribution function\")\n",
    "ax.spines[\"top\"].set_visible(False)\n",
    "ax.spines[\"right\"].set_visible(False)\n",
    "ax.spines[\"bottom\"].set_visible(False)\n",
    "ax.spines[\"left\"].set_visible(False)\n",
    "plt.savefig(f\"/home/markjenei/polymerisation-coarse-graining/dgeba_hardener/hardener/hardener_rdf.png\", bbox_inches='tight')"
   ],
   "metadata": {
    "collapsed": false,
    "pycharm": {
     "name": "#%%\n"
    }
   }
  },
  {
   "cell_type": "code",
   "execution_count": 23,
   "outputs": [
    {
     "data": {
      "text/plain": "<Figure size 432x288 with 1 Axes>",
      "image/png": "[encoded data removed]"
     },
     "metadata": {
      "needs_background": "light"
     },
     "output_type": "display_data"
    }
   ],
   "source": [
    "fig, ax = plt.subplots()\n",
    "steps = 250\n",
    "t = np.arange(0., hardener_tm.n * hardener_tm.timestep * hardener_tm.t, hardener_tm.timestep * hardener_tm.t)\n",
    "ax.plot(t[:steps], msd_npt_350[:steps] / 100, label=\"T = 350 (NpT)\", ls='-', color='#ffa600')\n",
    "ax.plot(t[:steps], msd_nvt_350[:steps] / 100, label=\"T = 350 (NvT)\", ls='-', color='#ff6e54')\n",
    "ax.plot(t[:steps], msd_npt_400[:steps] / 100, label=\"T = 400 (NpT)\", ls='-', color='#dd5182')\n",
    "ax.plot(t[:steps], msd_nvt_400[:steps] / 100, label=\"T = 400 (NvT)\", ls='-', color='#955196')\n",
    "#ax.plot(t, msd_npt_450 / 100)\n",
    "ax.legend(frameon=False)\n",
    "ax.set_ylabel(r\"msd ($nm^2$\")\n",
    "ax.set_xlabel(\"t (ns)\")\n",
    "ax.set_title(\"Mean squared displacement\")\n",
    "ax.spines[\"top\"].set_visible(False)\n",
    "ax.spines[\"right\"].set_visible(False)\n",
    "ax.spines[\"bottom\"].set_visible(False)\n",
    "ax.spines[\"left\"].set_visible(False)\n",
    "#plt.savefig(f\"/home/markjenei/polymerisation-coarse-graining/dgeba_hardener/hardener/hardener_msd.png\", bbox_inches='tight')\n"
   ],
   "metadata": {
    "collapsed": false,
    "pycharm": {
     "name": "#%%\n"
    }
   }
  }
 ],
 "metadata": {
  "kernelspec": {
   "display_name": "Python 3",
   "language": "python",
   "name": "python3"
  },
  "language_info": {
   "codemirror_mode": {
    "name": "ipython",
    "version": 2
   },
   "file_extension": ".py",
   "mimetype": "text/x-python",
   "name": "python",
   "nbconvert_exporter": "python",
   "pygments_lexer": "ipython2",
   "version": "2.7.6"
  }
 },
 "nbformat": 4,
 "nbformat_minor": 0
}