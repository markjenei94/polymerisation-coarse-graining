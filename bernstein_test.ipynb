{
 "cells": [
  {
   "cell_type": "markdown",
   "metadata": {
    "collapsed": true,
    "pycharm": {
     "name": "#%% md\n"
    }
   },
   "source": [
    "### LJ small atom"
   ]
  },
  {
   "cell_type": "code",
   "execution_count": 2,
   "outputs": [
    {
     "name": "stdout",
     "output_type": "stream",
     "text": [
      "Loading data\t1.56 s\n",
      "Preparing input\t7.04 s\n",
      "Fitting\t"
     ]
    },
    {
     "ename": "KeyboardInterrupt",
     "evalue": "",
     "output_type": "error",
     "traceback": [
      "\u001B[0;31m---------------------------------------------------------------------------\u001B[0m",
      "\u001B[0;31mKeyboardInterrupt\u001B[0m                         Traceback (most recent call last)",
      "\u001B[0;32m<ipython-input-2-767d1c7d65db>\u001B[0m in \u001B[0;36m<module>\u001B[0;34m\u001B[0m\n\u001B[1;32m     17\u001B[0m \u001B[0;34m\u001B[0m\u001B[0m\n\u001B[1;32m     18\u001B[0m \u001B[0mtm\u001B[0m\u001B[0;34m.\u001B[0m\u001B[0mprepare_training_data\u001B[0m\u001B[0;34m(\u001B[0m\u001B[0;34m)\u001B[0m\u001B[0;34m\u001B[0m\u001B[0;34m\u001B[0m\u001B[0m\n\u001B[0;32m---> 19\u001B[0;31m \u001B[0mtm\u001B[0m\u001B[0;34m.\u001B[0m\u001B[0mfit\u001B[0m\u001B[0;34m(\u001B[0m\u001B[0;34m)\u001B[0m\u001B[0;34m\u001B[0m\u001B[0;34m\u001B[0m\u001B[0m\n\u001B[0m\u001B[1;32m     20\u001B[0m \u001B[0;34m\u001B[0m\u001B[0m\n\u001B[1;32m     21\u001B[0m \u001B[0mx\u001B[0m \u001B[0;34m=\u001B[0m \u001B[0mnp\u001B[0m\u001B[0;34m.\u001B[0m\u001B[0mlinspace\u001B[0m\u001B[0;34m(\u001B[0m\u001B[0;36m5.4\u001B[0m\u001B[0;34m,\u001B[0m \u001B[0;36m15\u001B[0m\u001B[0;34m,\u001B[0m \u001B[0;36m10000\u001B[0m\u001B[0;34m)\u001B[0m\u001B[0;34m\u001B[0m\u001B[0;34m\u001B[0m\u001B[0m\n",
      "\u001B[0;32m~/polymerisation-coarse-graining/bernstein_develop.py\u001B[0m in \u001B[0;36mfit\u001B[0;34m(self, method)\u001B[0m\n\u001B[1;32m    317\u001B[0m             else:'''\n\u001B[1;32m    318\u001B[0m         \u001B[0;32mfor\u001B[0m \u001B[0mt\u001B[0m\u001B[0;34m,\u001B[0m \u001B[0mfeature_matrix_t\u001B[0m \u001B[0;32min\u001B[0m \u001B[0menumerate\u001B[0m\u001B[0;34m(\u001B[0m\u001B[0mself\u001B[0m\u001B[0;34m.\u001B[0m\u001B[0mfeature_matrix\u001B[0m\u001B[0;34m)\u001B[0m\u001B[0;34m:\u001B[0m\u001B[0;34m\u001B[0m\u001B[0;34m\u001B[0m\u001B[0m\n\u001B[0;32m--> 319\u001B[0;31m             \u001B[0mnorm_projection\u001B[0m \u001B[0;34m=\u001B[0m \u001B[0mself\u001B[0m\u001B[0;34m.\u001B[0m\u001B[0mfit_core\u001B[0m\u001B[0;34m(\u001B[0m\u001B[0mt\u001B[0m\u001B[0;34m,\u001B[0m \u001B[0mmethod\u001B[0m\u001B[0;34m)\u001B[0m\u001B[0;34m\u001B[0m\u001B[0;34m\u001B[0m\u001B[0m\n\u001B[0m\u001B[1;32m    320\u001B[0m             \u001B[0mnorms\u001B[0m\u001B[0;34m.\u001B[0m\u001B[0mappend\u001B[0m\u001B[0;34m(\u001B[0m\u001B[0mnp\u001B[0m\u001B[0;34m.\u001B[0m\u001B[0marray\u001B[0m\u001B[0;34m(\u001B[0m\u001B[0mnorm_projection\u001B[0m\u001B[0;34m[\u001B[0m\u001B[0;36m0\u001B[0m\u001B[0;34m]\u001B[0m\u001B[0;34m)\u001B[0m\u001B[0;34m)\u001B[0m\u001B[0;34m\u001B[0m\u001B[0;34m\u001B[0m\u001B[0m\n\u001B[1;32m    321\u001B[0m             \u001B[0mprojections\u001B[0m\u001B[0;34m.\u001B[0m\u001B[0mappend\u001B[0m\u001B[0;34m(\u001B[0m\u001B[0mnp\u001B[0m\u001B[0;34m.\u001B[0m\u001B[0marray\u001B[0m\u001B[0;34m(\u001B[0m\u001B[0mnorm_projection\u001B[0m\u001B[0;34m[\u001B[0m\u001B[0;36m1\u001B[0m\u001B[0;34m]\u001B[0m\u001B[0;34m)\u001B[0m\u001B[0;34m)\u001B[0m\u001B[0;34m\u001B[0m\u001B[0;34m\u001B[0m\u001B[0m\n",
      "\u001B[0;32m~/polymerisation-coarse-graining/bernstein_develop.py\u001B[0m in \u001B[0;36mfit_core\u001B[0;34m(self, t, method)\u001B[0m\n\u001B[1;32m    291\u001B[0m         \u001B[0;32melse\u001B[0m\u001B[0;34m:\u001B[0m\u001B[0;34m\u001B[0m\u001B[0;34m\u001B[0m\u001B[0m\n\u001B[1;32m    292\u001B[0m             \u001B[0mb_matrix\u001B[0m \u001B[0;34m=\u001B[0m \u001B[0mself\u001B[0m\u001B[0;34m.\u001B[0m\u001B[0mb_matrix\u001B[0m\u001B[0;34m(\u001B[0m\u001B[0mt\u001B[0m\u001B[0;34m)\u001B[0m\u001B[0;34m\u001B[0m\u001B[0;34m\u001B[0m\u001B[0m\n\u001B[0;32m--> 293\u001B[0;31m             \u001B[0mb_matrix_t_pinv\u001B[0m \u001B[0;34m=\u001B[0m \u001B[0mnp\u001B[0m\u001B[0;34m.\u001B[0m\u001B[0mlinalg\u001B[0m\u001B[0;34m.\u001B[0m\u001B[0mpinv\u001B[0m\u001B[0;34m(\u001B[0m\u001B[0mb_matrix\u001B[0m\u001B[0;34m)\u001B[0m\u001B[0;34m\u001B[0m\u001B[0;34m\u001B[0m\u001B[0m\n\u001B[0m\u001B[1;32m    294\u001B[0m             \u001B[0mnorm\u001B[0m \u001B[0;34m=\u001B[0m \u001B[0mnp\u001B[0m\u001B[0;34m.\u001B[0m\u001B[0mmatmul\u001B[0m\u001B[0;34m(\u001B[0m\u001B[0mb_matrix_t_pinv\u001B[0m\u001B[0;34m,\u001B[0m \u001B[0mself\u001B[0m\u001B[0;34m.\u001B[0m\u001B[0mfeature_matrix\u001B[0m\u001B[0;34m[\u001B[0m\u001B[0mt\u001B[0m\u001B[0;34m]\u001B[0m\u001B[0;34m.\u001B[0m\u001B[0mT\u001B[0m\u001B[0;34m)\u001B[0m\u001B[0;34m\u001B[0m\u001B[0;34m\u001B[0m\u001B[0m\n\u001B[1;32m    295\u001B[0m             \u001B[0mnorm\u001B[0m \u001B[0;34m=\u001B[0m \u001B[0mnp\u001B[0m\u001B[0;34m.\u001B[0m\u001B[0mmatmul\u001B[0m\u001B[0;34m(\u001B[0m\u001B[0mself\u001B[0m\u001B[0;34m.\u001B[0m\u001B[0mfeature_matrix\u001B[0m\u001B[0;34m[\u001B[0m\u001B[0mt\u001B[0m\u001B[0;34m]\u001B[0m\u001B[0;34m,\u001B[0m \u001B[0mnorm\u001B[0m\u001B[0;34m)\u001B[0m\u001B[0;34m\u001B[0m\u001B[0;34m\u001B[0m\u001B[0m\n",
      "\u001B[0;32m<__array_function__ internals>\u001B[0m in \u001B[0;36mpinv\u001B[0;34m(*args, **kwargs)\u001B[0m\n",
      "\u001B[0;32m~/polymerisation-coarse-graining/venv/lib/python3.8/site-packages/numpy/linalg/linalg.py\u001B[0m in \u001B[0;36mpinv\u001B[0;34m(a, rcond, hermitian)\u001B[0m\n\u001B[1;32m   2000\u001B[0m         \u001B[0;32mreturn\u001B[0m \u001B[0mwrap\u001B[0m\u001B[0;34m(\u001B[0m\u001B[0mres\u001B[0m\u001B[0;34m)\u001B[0m\u001B[0;34m\u001B[0m\u001B[0;34m\u001B[0m\u001B[0m\n\u001B[1;32m   2001\u001B[0m     \u001B[0ma\u001B[0m \u001B[0;34m=\u001B[0m \u001B[0ma\u001B[0m\u001B[0;34m.\u001B[0m\u001B[0mconjugate\u001B[0m\u001B[0;34m(\u001B[0m\u001B[0;34m)\u001B[0m\u001B[0;34m\u001B[0m\u001B[0;34m\u001B[0m\u001B[0m\n\u001B[0;32m-> 2002\u001B[0;31m     \u001B[0mu\u001B[0m\u001B[0;34m,\u001B[0m \u001B[0ms\u001B[0m\u001B[0;34m,\u001B[0m \u001B[0mvt\u001B[0m \u001B[0;34m=\u001B[0m \u001B[0msvd\u001B[0m\u001B[0;34m(\u001B[0m\u001B[0ma\u001B[0m\u001B[0;34m,\u001B[0m \u001B[0mfull_matrices\u001B[0m\u001B[0;34m=\u001B[0m\u001B[0;32mFalse\u001B[0m\u001B[0;34m,\u001B[0m \u001B[0mhermitian\u001B[0m\u001B[0;34m=\u001B[0m\u001B[0mhermitian\u001B[0m\u001B[0;34m)\u001B[0m\u001B[0;34m\u001B[0m\u001B[0;34m\u001B[0m\u001B[0m\n\u001B[0m\u001B[1;32m   2003\u001B[0m \u001B[0;34m\u001B[0m\u001B[0m\n\u001B[1;32m   2004\u001B[0m     \u001B[0;31m# discard small singular values\u001B[0m\u001B[0;34m\u001B[0m\u001B[0;34m\u001B[0m\u001B[0;34m\u001B[0m\u001B[0m\n",
      "\u001B[0;32m<__array_function__ internals>\u001B[0m in \u001B[0;36msvd\u001B[0;34m(*args, **kwargs)\u001B[0m\n",
      "\u001B[0;32m~/polymerisation-coarse-graining/venv/lib/python3.8/site-packages/numpy/linalg/linalg.py\u001B[0m in \u001B[0;36msvd\u001B[0;34m(a, full_matrices, compute_uv, hermitian)\u001B[0m\n\u001B[1;32m   1658\u001B[0m \u001B[0;34m\u001B[0m\u001B[0m\n\u001B[1;32m   1659\u001B[0m         \u001B[0msignature\u001B[0m \u001B[0;34m=\u001B[0m \u001B[0;34m'D->DdD'\u001B[0m \u001B[0;32mif\u001B[0m \u001B[0misComplexType\u001B[0m\u001B[0;34m(\u001B[0m\u001B[0mt\u001B[0m\u001B[0;34m)\u001B[0m \u001B[0;32melse\u001B[0m \u001B[0;34m'd->ddd'\u001B[0m\u001B[0;34m\u001B[0m\u001B[0;34m\u001B[0m\u001B[0m\n\u001B[0;32m-> 1660\u001B[0;31m         \u001B[0mu\u001B[0m\u001B[0;34m,\u001B[0m \u001B[0ms\u001B[0m\u001B[0;34m,\u001B[0m \u001B[0mvh\u001B[0m \u001B[0;34m=\u001B[0m \u001B[0mgufunc\u001B[0m\u001B[0;34m(\u001B[0m\u001B[0ma\u001B[0m\u001B[0;34m,\u001B[0m \u001B[0msignature\u001B[0m\u001B[0;34m=\u001B[0m\u001B[0msignature\u001B[0m\u001B[0;34m,\u001B[0m \u001B[0mextobj\u001B[0m\u001B[0;34m=\u001B[0m\u001B[0mextobj\u001B[0m\u001B[0;34m)\u001B[0m\u001B[0;34m\u001B[0m\u001B[0;34m\u001B[0m\u001B[0m\n\u001B[0m\u001B[1;32m   1661\u001B[0m         \u001B[0mu\u001B[0m \u001B[0;34m=\u001B[0m \u001B[0mu\u001B[0m\u001B[0;34m.\u001B[0m\u001B[0mastype\u001B[0m\u001B[0;34m(\u001B[0m\u001B[0mresult_t\u001B[0m\u001B[0;34m,\u001B[0m \u001B[0mcopy\u001B[0m\u001B[0;34m=\u001B[0m\u001B[0;32mFalse\u001B[0m\u001B[0;34m)\u001B[0m\u001B[0;34m\u001B[0m\u001B[0;34m\u001B[0m\u001B[0m\n\u001B[1;32m   1662\u001B[0m         \u001B[0ms\u001B[0m \u001B[0;34m=\u001B[0m \u001B[0ms\u001B[0m\u001B[0;34m.\u001B[0m\u001B[0mastype\u001B[0m\u001B[0;34m(\u001B[0m\u001B[0m_realType\u001B[0m\u001B[0;34m(\u001B[0m\u001B[0mresult_t\u001B[0m\u001B[0;34m)\u001B[0m\u001B[0;34m,\u001B[0m \u001B[0mcopy\u001B[0m\u001B[0;34m=\u001B[0m\u001B[0;32mFalse\u001B[0m\u001B[0;34m)\u001B[0m\u001B[0;34m\u001B[0m\u001B[0;34m\u001B[0m\u001B[0m\n",
      "\u001B[0;31mKeyboardInterrupt\u001B[0m: "
     ]
    }
   ],
   "source": [
    "import numpy as np\n",
    "from bernstein_develop import TrajectoryMatching\n",
    "from misc import plot_1component\n",
    "\n",
    "def target_function(x):\n",
    "    return 24 * 0.75 / x * (2 * (5/x) ** 12 - (5/x) ** 6)\n",
    "def basis_function(x, p):\n",
    "    return np.sign(x) * np.abs(x) ** p\n",
    "params = range(-1, -15, -2)\n",
    "\n",
    "steps_between_points = 3\n",
    "configurations = 500\n",
    "outfile = \"/home/markjenei//polymerisation-coarse-graining/lj_test/trajectory_match/small_npt.out\"\n",
    "tm = TrajectoryMatching(outfile_path=outfile, basis=basis_function, basis_parameters=params,\n",
    "                                   simulation_timestep=0.5, cutoff=15,\n",
    "                                   every_n_from_output=steps_between_points, timesteps_in_fit=configurations)\n",
    "\n",
    "tm.prepare_training_data()\n",
    "tm.fit()\n",
    "\n",
    "x = np.linspace(5.4, 15, 10000)\n",
    "y_fit = tm.predict(x)\n",
    "y = target_function(x)\n",
    "plot_1component(x, y_fit, y) #, thermostat='NpT', output_path=\"/home/markjenei/polymerisation-coarse-graining/lj_test/small_npt.png\")\n",
    "best_params, best_weights = tm.best_subset((-7, -13), x, print_coeffs=True, plot=True)"
   ],
   "metadata": {
    "collapsed": false,
    "pycharm": {
     "name": "#%%\n"
    }
   }
  },
  {
   "cell_type": "code",
   "execution_count": 3,
   "outputs": [
    {
     "name": "stdout",
     "output_type": "stream",
     "text": [
      "Loading data\t3.99 s\n",
      "Preparing input\t20.98 s\n",
      "Fitting\t200.61 s\n"
     ]
    },
    {
     "data": {
      "text/plain": "<Figure size 432x288 with 1 Axes>",
      "image/png": "[encoded data removed]"
     },
     "metadata": {
      "needs_background": "light"
     },
     "output_type": "display_data"
    }
   ],
   "source": [
    "import numpy as np\n",
    "from tm_develop import TrajectoryMatching\n",
    "from misc import plot_1component\n",
    "\n",
    "def target_function(x):\n",
    "    return 24 * 0.75 / x * (2 * (5/x) ** 12 - (5/x) ** 6)\n",
    "\n",
    "r_m, cutoff = 7.5, 15\n",
    "\n",
    "def bernstein_basis_functions(r, p):\n",
    "    global r_m, cutoff\n",
    "    r = np.array(r)\n",
    "    original_shape = r.shape\n",
    "    r = np.ravel(r)\n",
    "    y = np.zeros(r.shape[0])\n",
    "\n",
    "    x = (r / r_m)[r < r_m]\n",
    "    x1 = ((r - r_m) / (-r_m))[r < r_m]\n",
    "    x2 = ((r - r_m) / (cutoff - r_m))[(r_m < r) & (r <= cutoff)]\n",
    "\n",
    "    if p == 0:\n",
    "        y[r < r_m] = (1 - x) ** 2\n",
    "    elif p == 1:\n",
    "        y[r < r_m] = (1 + x1) * (1 - x1)\n",
    "        y[(r_m < r) & (r <= cutoff)] = (1 + 4*x2) * (1 - x2)**4\n",
    "    elif p == 2:\n",
    "        y[r < r_m] = -r_m * x1 * (1 - x1)\n",
    "        y[(r_m < r) & (r <= cutoff)] = (cutoff - r_m) * x2 * (1 - x2)**4\n",
    "    elif p == 3:\n",
    "        y[(r_m < r) & (r <= cutoff)] = 10 * x2**2 * (1 - x2)**3\n",
    "    elif p == 4:\n",
    "        y[(r_m < r) & (r <= cutoff)] = 10 * x2**3 * (1 - x2)**2\n",
    "    elif p == 5:\n",
    "        y[(r_m < r) & (r <= cutoff)] =  5 * x2**4 * (1 - x2)\n",
    "\n",
    "    return y.reshape(original_shape)\n",
    "\n",
    "#params = [0, 1, 2, 3, 4, 5]\n",
    "params = range(0, 6)\n",
    "steps_between_points = 3\n",
    "configurations = 1500\n",
    "outfile = \"/home/markjenei//polymerisation-coarse-graining/lj_test/trajectory_match/small_npt.out\"\n",
    "tm = TrajectoryMatching(outfile_path=outfile, basis=bernstein_basis_functions, basis_parameters=params,\n",
    "                                   simulation_timestep=0.5, cutoff=15,\n",
    "                                   every_n_from_output=steps_between_points, timesteps_in_fit=configurations)\n",
    "\n",
    "tm.prepare_training_data()\n",
    "tm.fit()\n",
    "\n",
    "x = np.linspace(5.4, 15, 10000)\n",
    "y_fit = tm.predict(x)\n",
    "y = target_function(x)\n",
    "plot_1component(x, y_fit, y)"
   ],
   "metadata": {
    "collapsed": false,
    "pycharm": {
     "name": "#%%\n"
    }
   }
  }
 ],
 "metadata": {
  "kernelspec": {
   "display_name": "Python 3",
   "language": "python",
   "name": "python3"
  },
  "language_info": {
   "codemirror_mode": {
    "name": "ipython",
    "version": 2
   },
   "file_extension": ".py",
   "mimetype": "text/x-python",
   "name": "python",
   "nbconvert_exporter": "python",
   "pygments_lexer": "ipython2",
   "version": "2.7.6"
  }
 },
 "nbformat": 4,
 "nbformat_minor": 0
}