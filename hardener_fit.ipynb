{
 "cells": [
  {
   "cell_type": "markdown",
   "metadata": {
    "collapsed": true,
    "pycharm": {
     "name": "#%% md\n"
    }
   },
   "source": [
    "### NPT"
   ]
  },
  {
   "cell_type": "code",
   "execution_count": 3,
   "outputs": [],
   "source": [
    "import numpy as np\n",
    "from trajectory_matching import TrajectoryMatching\n",
    "from misc import plot_1component\n",
    "import time\n",
    "\n",
    "def basis_function(x, p):\n",
    "    return np.sign(x) * np.abs(x) ** p"
   ],
   "metadata": {
    "collapsed": false,
    "pycharm": {
     "name": "#%%\n"
    }
   }
  },
  {
   "cell_type": "code",
   "execution_count": 2,
   "outputs": [
    {
     "name": "stdout",
     "output_type": "stream",
     "text": [
      "T = 350\n",
      "Start at  14:51:44\n"
     ]
    },
    {
     "name": "stderr",
     "output_type": "stream",
     "text": [
      "loading data:  50%|█████     | 5000/10000 [04:13<04:13, 19.73it/s]\n",
      "preparing input: 100%|██████████| 5000/5000 [00:00<00:00, 1369881.77it/s]\n",
      "fitting: 100%|██████████| 4998/4998 [19:28<00:00,  4.28it/s]\n",
      "fitting gamma: 100%|██████████| 4998/4998 [19:05<00:00,  4.36it/s]"
     ]
    },
    {
     "name": "stdout",
     "output_type": "stream",
     "text": [
      "gamma = 7.259932629653503\n",
      "Finished at  15:40:06\n"
     ]
    },
    {
     "name": "stderr",
     "output_type": "stream",
     "text": [
      "\n"
     ]
    },
    {
     "data": {
      "text/plain": "<Figure size 432x288 with 1 Axes>",
      "image/png": "[encoded data removed]"
     },
     "metadata": {
      "needs_background": "light"
     },
     "output_type": "display_data"
    }
   ],
   "source": [
    "steps_between_points = 4\n",
    "configurations = 10000\n",
    "T = 350\n",
    "params = range(-1, -21, -2)\n",
    "\n",
    "\n",
    "print(f\"T = {T}\")\n",
    "t = time.localtime()\n",
    "current_time = time.strftime(\"%H:%M:%S\", t)\n",
    "print(\"Start at \",current_time)\n",
    "\n",
    "\n",
    "outfile = f\"/home/markjenei/polymerisation-coarse-graining/dgeba_hardener/hardener/hardener_npt_{T}.out\"\n",
    "hardener_tm = TrajectoryMatching(outfile_path=outfile, basis=basis_function, basis_parameters=params,\n",
    "                                   simulation_timestep=0.5, cutoff=50, system_style='molecular',\n",
    "                                   every_n_from_output=steps_between_points, timesteps_in_fit=configurations)\n",
    "\n",
    "\n",
    "hardener_tm.prepare_training_data()\n",
    "hardener_tm.fit()\n",
    "\n",
    "x = np.linspace(7.25, 25, 10000)\n",
    "y_fit_long = hardener_tm.predict(x)\n",
    "plot_1component(x, y_fit_long, output_path=f\"/home/markjenei/polymerisation-coarse-graining/dgeba_hardener/hardener/hardener_npt_{T}.png\")\n",
    "#np.save(f\"/home/markjenei/polymerisation-coarse-graining/dgeba_hardener/hardener/hardener_npt_{T}.npy\", hardener_tm.weights)\n",
    "\n",
    "gamma = hardener_tm.fit_gamma(T+3)\n",
    "print(f\"gamma = {gamma}\")\n",
    "\n",
    "t = time.localtime()\n",
    "current_time = time.strftime(\"%H:%M:%S\", t)\n",
    "print(\"Finished at \",current_time)"
   ],
   "metadata": {
    "collapsed": false,
    "pycharm": {
     "name": "#%%\n"
    }
   }
  },
  {
   "cell_type": "code",
   "execution_count": 2,
   "outputs": [
    {
     "name": "stdout",
     "output_type": "stream",
     "text": [
      "T = 400\n",
      "Start at  17:33:31\n"
     ]
    },
    {
     "name": "stderr",
     "output_type": "stream",
     "text": [
      "loading data: 100%|██████████| 5000/5000 [02:38<00:00, 31.53it/s]\n"
     ]
    },
    {
     "name": "stdout",
     "output_type": "stream",
     "text": [
      "preparing input\t"
     ]
    },
    {
     "name": "stderr",
     "output_type": "stream",
     "text": [
      "fitting:   0%|          | 1/4998 [00:00<13:17,  6.26it/s]"
     ]
    },
    {
     "name": "stdout",
     "output_type": "stream",
     "text": [
      "312.69 s\n"
     ]
    },
    {
     "name": "stderr",
     "output_type": "stream",
     "text": [
      "fitting: 100%|██████████| 4998/4998 [11:16<00:00,  7.39it/s]\n",
      "fitting gamma: 100%|██████████| 4998/4998 [11:21<00:00,  7.33it/s]\n"
     ]
    },
    {
     "name": "stdout",
     "output_type": "stream",
     "text": [
      "gamma = 72.56942995415841\n",
      "Finished at  18:04:24\n"
     ]
    },
    {
     "data": {
      "text/plain": "<Figure size 432x288 with 1 Axes>",
      "image/png": "[encoded data removed]"
     },
     "metadata": {
      "needs_background": "light"
     },
     "output_type": "display_data"
    }
   ],
   "source": [
    "steps_between_points = 1\n",
    "configurations = 5000\n",
    "T = 400\n",
    "params = range(-1, -23, -2)\n",
    "\n",
    "print(f\"T = {T}\")\n",
    "t = time.localtime()\n",
    "current_time = time.strftime(\"%H:%M:%S\", t)\n",
    "print(\"Start at \",current_time)\n",
    "\n",
    "\n",
    "outfile = f\"/home/markjenei/polymerisation-coarse-graining/dgeba_hardener/hardener/hardener_npt_{T}.out\"\n",
    "hardener_tm = TrajectoryMatching(outfile_path=outfile, basis=basis_function, basis_parameters=params,\n",
    "                                   simulation_timestep=0.5, cutoff=60, system_style='molecular',\n",
    "                                   every_n_from_output=steps_between_points, timesteps_in_fit=configurations)\n",
    "\n",
    "\n",
    "hardener_tm.prepare_training_data()\n",
    "hardener_tm.fit()\n",
    "\n",
    "x = np.linspace(7.25, 25, 10000)\n",
    "y_fit_long = hardener_tm.predict(x)\n",
    "plot_1component(x, y_fit_long, output_path=f\"/home/markjenei/polymerisation-coarse-graining/dgeba_hardener/hardener/hardener_npt_{T}.png\")\n",
    "#np.save(f\"/home/markjenei/polymerisation-coarse-graining/dgeba_hardener/hardener/hardener_npt_{T}.npy\", hardener_tm.weights)\n",
    "\n",
    "gamma = hardener_tm.fit_gamma(T+3)\n",
    "print(f\"gamma = {gamma}\")\n",
    "\n",
    "t = time.localtime()\n",
    "current_time = time.strftime(\"%H:%M:%S\", t)\n",
    "print(\"Finished at \",current_time)"
   ],
   "metadata": {
    "collapsed": false,
    "pycharm": {
     "name": "#%%\n"
    }
   }
  },
  {
   "cell_type": "code",
   "execution_count": null,
   "outputs": [],
   "source": [
    "steps_between_points = 2\n",
    "configurations = 5000\n",
    "T = 450\n",
    "params = range(-1, -23, -2)\n",
    "\n",
    "print(f\"T = {T}\")\n",
    "t = time.localtime()\n",
    "current_time = time.strftime(\"%H:%M:%S\", t)\n",
    "print(\"Start at \",current_time)\n",
    "\n",
    "\n",
    "outfile = f\"/home/markjenei/polymerisation-coarse-graining/dgeba_hardener/hardener/hardener_npt_{T}.out\"\n",
    "hardener_tm = TrajectoryMatching(outfile_path=outfile, basis=basis_function, basis_parameters=params,\n",
    "                                   simulation_timestep=0.5, cutoff=60, system_style='molecular',\n",
    "                                   every_n_from_output=steps_between_points, timesteps_in_fit=configurations)\n",
    "\n",
    "\n",
    "hardener_tm.prepare_training_data()\n",
    "hardener_tm.fit()\n",
    "\n",
    "x = np.linspace(5.75, 25, 10000)\n",
    "y_fit_long = hardener_tm.predict(x)\n",
    "plot_1component(x, y_fit_long, output_path=f\"/home/markjenei/polymerisation-coarse-graining/dgeba_hardener/hardener/hardener_npt_{T}.png\")\n",
    "#np.save(f\"/home/markjenei/polymerisation-coarse-graining/dgeba_hardener/hardener/hardener_npt_{T}.npy\", hardener_tm.weights)\n",
    "\n",
    "gamma = hardener_tm.fit_gamma(T+3)\n",
    "print(f\"gamma = {gamma}\")\n",
    "\n",
    "t = time.localtime()\n",
    "current_time = time.strftime(\"%H:%M:%S\", t)\n",
    "print(\"Finished at \",current_time)"
   ],
   "metadata": {
    "collapsed": false,
    "pycharm": {
     "name": "#%%\n"
    }
   }
  },
  {
   "cell_type": "markdown",
   "source": [
    "### NVT"
   ],
   "metadata": {
    "collapsed": false,
    "pycharm": {
     "name": "#%% md\n"
    }
   }
  },
  {
   "cell_type": "code",
   "execution_count": 4,
   "outputs": [
    {
     "name": "stdout",
     "output_type": "stream",
     "text": [
      "T = 350\n",
      "Start at  18:14:45\n"
     ]
    },
    {
     "name": "stderr",
     "output_type": "stream",
     "text": [
      "loading data: 100%|██████████| 5000/5000 [03:19<00:00, 25.02it/s]\n"
     ]
    },
    {
     "name": "stdout",
     "output_type": "stream",
     "text": [
      "preparing input\n"
     ]
    },
    {
     "name": "stderr",
     "output_type": "stream",
     "text": [
      "fitting: 100%|██████████| 4998/4998 [10:53<00:00,  7.65it/s]\n",
      "fitting gamma: 100%|██████████| 4998/4998 [11:59<00:00,  6.95it/s]\n"
     ]
    },
    {
     "name": "stdout",
     "output_type": "stream",
     "text": [
      "gamma = 2.539079325400478\n",
      "Finished at  18:46:27\n"
     ]
    },
    {
     "data": {
      "text/plain": "<Figure size 432x288 with 1 Axes>",
      "image/png": "[encoded data removed]"
     },
     "metadata": {
      "needs_background": "light"
     },
     "output_type": "display_data"
    }
   ],
   "source": [
    "steps_between_points = 4\n",
    "configurations = 5000\n",
    "T = 350\n",
    "params = range(-1, -21, -2)\n",
    "\n",
    "print(f\"T = {T}\")\n",
    "t = time.localtime()\n",
    "current_time = time.strftime(\"%H:%M:%S\", t)\n",
    "print(\"Start at \",current_time)\n",
    "\n",
    "\n",
    "outfile = f\"/home/markjenei/polymerisation-coarse-graining/dgeba_hardener/hardener/hardener_nvt_{T}.out\"\n",
    "hardener_tm = TrajectoryMatching(outfile_path=outfile, basis=basis_function, basis_parameters=params,\n",
    "                                   simulation_timestep=0.5, cutoff=50, system_style='molecular',\n",
    "                                   every_n_from_output=steps_between_points, timesteps_in_fit=configurations)\n",
    "\n",
    "\n",
    "hardener_tm.prepare_training_data()\n",
    "hardener_tm.fit()\n",
    "\n",
    "x = np.linspace(7.25, 25, 10000)\n",
    "y_fit_long = hardener_tm.predict(x)\n",
    "plot_1component(x, y_fit_long, output_path=f\"/home/markjenei/polymerisation-coarse-graining/dgeba_hardener/hardener/hardener_nvt_{T}.png\", thermostat='NVT')\n",
    "#np.save(f\"/home/markjenei/polymerisation-coarse-graining/dgeba_hardener/hardener/hardener_nvt_{T}.npy\", hardener_tm.weights)\n",
    "\n",
    "gamma = hardener_tm.fit_gamma(T+3)\n",
    "print(f\"gamma = {gamma}\")\n",
    "\n",
    "t = time.localtime()\n",
    "current_time = time.strftime(\"%H:%M:%S\", t)\n",
    "print(\"Finished at \",current_time)"
   ],
   "metadata": {
    "collapsed": false,
    "pycharm": {
     "name": "#%%\n"
    }
   }
  },
  {
   "cell_type": "code",
   "execution_count": 6,
   "outputs": [
    {
     "name": "stdout",
     "output_type": "stream",
     "text": [
      "T = 400\n",
      "Start at  19:11:26\n"
     ]
    },
    {
     "name": "stderr",
     "output_type": "stream",
     "text": [
      "loading data: 100%|██████████| 5000/5000 [02:36<00:00, 32.00it/s]\n"
     ]
    },
    {
     "name": "stdout",
     "output_type": "stream",
     "text": [
      "preparing input\n"
     ]
    },
    {
     "name": "stderr",
     "output_type": "stream",
     "text": [
      "fitting: 100%|██████████| 4998/4998 [12:41<00:00,  6.56it/s]\n",
      "fitting gamma: 100%|██████████| 4998/4998 [13:14<00:00,  6.29it/s]\n"
     ]
    },
    {
     "name": "stdout",
     "output_type": "stream",
     "text": [
      "gamma = 0.5091333261249192\n",
      "Finished at  19:45:42\n"
     ]
    },
    {
     "data": {
      "text/plain": "<Figure size 432x288 with 1 Axes>",
      "image/png": "[encoded data removed]"
     },
     "metadata": {
      "needs_background": "light"
     },
     "output_type": "display_data"
    }
   ],
   "source": [
    "steps_between_points = 1\n",
    "configurations = 5000\n",
    "T = 400\n",
    "params = range(-1, -23, -2)\n",
    "\n",
    "print(f\"T = {T}\")\n",
    "t = time.localtime()\n",
    "current_time = time.strftime(\"%H:%M:%S\", t)\n",
    "print(\"Start at \",current_time)\n",
    "\n",
    "\n",
    "outfile = f\"/home/markjenei/polymerisation-coarse-graining/dgeba_hardener/hardener/hardener_nvt_{T}.out\"\n",
    "hardener_tm = TrajectoryMatching(outfile_path=outfile, basis=basis_function, basis_parameters=params,\n",
    "                                   simulation_timestep=0.5, cutoff=60, system_style='molecular',\n",
    "                                   every_n_from_output=steps_between_points, timesteps_in_fit=configurations)\n",
    "\n",
    "\n",
    "hardener_tm.prepare_training_data()\n",
    "hardener_tm.fit()\n",
    "\n",
    "x = np.linspace(7.25, 25, 10000)\n",
    "y_fit_long = hardener_tm.predict(x)\n",
    "plot_1component(x, y_fit_long, output_path=f\"/home/markjenei/polymerisation-coarse-graining/dgeba_hardener/hardener/hardener_nvt_{T}.png\", thermostat='NVT')\n",
    "#np.save(f\"/home/markjenei/polymerisation-coarse-graining/dgeba_hardener/hardener/hardener_nvt_{T}.npy\", hardener_tm.weights)\n",
    "\n",
    "gamma = hardener_tm.fit_gamma(T+3)\n",
    "print(f\"gamma = {gamma}\")\n",
    "\n",
    "t = time.localtime()\n",
    "current_time = time.strftime(\"%H:%M:%S\", t)\n",
    "print(\"Finished at \",current_time)"
   ],
   "metadata": {
    "collapsed": false,
    "pycharm": {
     "name": "#%%\n"
    }
   }
  },
  {
   "cell_type": "code",
   "execution_count": null,
   "outputs": [],
   "source": [
    "steps_between_points = 2\n",
    "configurations = 5000\n",
    "T = 450\n",
    "params = range(-1, -23, -2)\n",
    "\n",
    "print(f\"T = {T}\")\n",
    "t = time.localtime()\n",
    "current_time = time.strftime(\"%H:%M:%S\", t)\n",
    "print(\"Start at \",current_time)\n",
    "\n",
    "\n",
    "outfile = f\"/home/markjenei/polymerisation-coarse-graining/dgeba_hardener/hardener/hardener_nvt_{T}_new.out\"\n",
    "hardener_tm = TrajectoryMatching(outfile_path=outfile, basis=basis_function, basis_parameters=params,\n",
    "                                   simulation_timestep=0.5, cutoff=50, system_style='molecular',\n",
    "                                   every_n_from_output=steps_between_points, timesteps_in_fit=configurations)\n",
    "\n",
    "\n",
    "hardener_tm.prepare_training_data()\n",
    "hardener_tm.fit()\n",
    "\n",
    "x = np.linspace(5.75, 25, 10000)\n",
    "y_fit_long = hardener_tm.predict(x)\n",
    "plot_1component(x, y_fit_long, output_path=f\"/home/markjenei/polymerisation-coarse-graining/dgeba_hardener/hardener/hardener_nvt_{T}_new.png\", thermostat='NVT')\n",
    "#np.save(f\"/home/markjenei/polymerisation-coarse-graining/dgeba_hardener/hardener/hardener_nvt_{T}_new.npy\", hardener_tm.weights)\n",
    "\n",
    "gamma = hardener_tm.fit_gamma(T+3)\n",
    "print(f\"gamma = {gamma}\")\n",
    "\n",
    "t = time.localtime()\n",
    "current_time = time.strftime(\"%H:%M:%S\", t)\n",
    "print(\"Finished at \",current_time)\n",
    "\n"
   ],
   "metadata": {
    "collapsed": false,
    "pycharm": {
     "name": "#%%\n"
    }
   }
  }
 ],
 "metadata": {
  "kernelspec": {
   "display_name": "Python 3",
   "language": "python",
   "name": "python3"
  },
  "language_info": {
   "codemirror_mode": {
    "name": "ipython",
    "version": 2
   },
   "file_extension": ".py",
   "mimetype": "text/x-python",
   "name": "python",
   "nbconvert_exporter": "python",
   "pygments_lexer": "ipython2",
   "version": "2.7.6"
  }
 },
 "nbformat": 4,
 "nbformat_minor": 0
}