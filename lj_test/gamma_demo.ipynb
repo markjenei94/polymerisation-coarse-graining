{
 "cells": [
  {
   "cell_type": "markdown",
   "metadata": {
    "collapsed": true,
    "pycharm": {
     "name": "#%% md\n"
    }
   },
   "source": [
    "## Demo"
   ]
  },
  {
   "cell_type": "code",
   "execution_count": null,
   "outputs": [],
   "source": [
    "import numpy as np\n",
    "from trajectory_matching import TrajectoryMatching\n",
    "from misc import plot_1component\n",
    "\n",
    "def target_function(x):\n",
    "    return 24 * 0.75 / x * (2 * (5/x) ** 12 - (5/x) ** 6)\n",
    "def basis_function(x, p):\n",
    "    return np.sign(x) * np.abs(x) ** p\n",
    "params = range(-1, -15, -2)\n",
    "\n",
    "steps_between_points = 4\n",
    "configurations = 1500\n",
    "outfile = \"/home/markjenei//polymerisation-coarse-graining/lj_test/trajectory_match/lj_test_gamma_demo.out\"\n",
    "small_atom_tm = TrajectoryMatching(outfile_path=outfile, basis=basis_function, basis_parameters=params,\n",
    "                                   simulation_timestep=0.5, cutoff=15,\n",
    "                                   every_n_from_output=steps_between_points, timesteps_in_fit=configurations)\n",
    "\n",
    "small_atom_tm.prepare_training_data()\n",
    "small_atom_tm.fit()\n",
    "\n",
    "x = np.linspace(5.4, 15, 10000)\n",
    "y_fit = small_atom_tm.predict(x)\n",
    "y = target_function(x)\n",
    "plot_1component(x, y_fit, y) #, thermostat='NpT', output_path=\"/home/markjenei/polymerisation-coarse-graining/lj_test/small_npt.png\")\n",
    "best_params, best_weights = small_atom_tm.best_subset((-7, -13), x, print_coeffs=True, plot=True)"
   ],
   "metadata": {
    "collapsed": false,
    "pycharm": {
     "name": "#%%\n"
    }
   }
  },
  {
   "cell_type": "code",
   "execution_count": null,
   "outputs": [],
   "source": [
    "import misc\n",
    "import matplotlib.pyplot as plt\n",
    "i = 0 # try self.t = 4 and i = 2 for good gamma explanation (lj_test_gamma_demo.out)\n",
    "asd = 500\n",
    "plt.plot(small_atom_tm.r[:, i, 0][0:asd], lw=1.8, color='xkcd:mustard')\n",
    "plt.plot(np.arange(50, 180, 1),small_atom_tm.r[:, i, 0][50:180], lw=1.8, color='xkcd:grass green')\n",
    "plt.plot(np.arange(350, 480, 1), small_atom_tm.r[:, i, 0][350:480], lw=1.8, color='xkcd:burnt orange')\n",
    "plt.xlabel(\"timestep\")\n",
    "plt.title(\"Postion\")\n",
    "plt.savefig(\"/home/markjenei/polymerisation-coarse-graining/lj_test/trajectory_match/test_r.png\", bbox_inches=\"tight\")\n",
    "plt.show()\n",
    "\n",
    "#v_ = misc.lowess(small_atom_tm.v[:, i, 0][0:asd], f=0.02, iter=5)\n",
    "plt.title(\"Velocity\")\n",
    "plt.plot(small_atom_tm.v[:, i, 0][0:asd], lw=1.5, color='xkcd:mustard')\n",
    "plt.axhline(0, color='xkcd:burnt orange', ls=':')\n",
    "#plt.plot(v_[0:asd])\n",
    "plt.xlabel(\"timestep\")\n",
    "plt.savefig(\"/home/markjenei/polymerisation-coarse-graining/lj_test/trajectory_match/test_v.png\", bbox_inches=\"tight\")\n",
    "plt.show()\n",
    "\n",
    "f = small_atom_tm.f[:, i, 0][0:asd]\n",
    "\n",
    "a_fit = misc.lowess(small_atom_tm.a[:, i, 0][0:asd], f=0.02, iter=5) * 340.42  * small_atom_tm.timestep ** 2\n",
    "\n",
    "plt.title(\"Force\")\n",
    "plt.plot(a_fit , label='trajectory matching', lw=2.5)\n",
    "plt.plot(f, label='true', lw=2.5)\n",
    "plt.axhline(0, color='xkcd:silver', ls=':', lw=2.5)\n",
    "plt.xlabel(\"timestep\")\n",
    "plt.legend(frameon=False)\n",
    "plt.savefig(\"/home/markjenei/polymerisation-coarse-graining/lj_test/trajectory_match/test_f.png\", bbox_inches=\"tight\")\n",
    "plt.show()"
   ],
   "metadata": {
    "collapsed": false,
    "pycharm": {
     "name": "#%%\n"
    }
   }
  },
  {
   "cell_type": "code",
   "execution_count": null,
   "outputs": [],
   "source": [
    "i = 0 # try self.t = 4 and i = 2 for good gamma explanation (lj_test_gamma_demo.out)\n",
    "asd = 500\n",
    "plt.plot(small_atom_tm.r[:, i, 0][50:180], lw=1.8, color='xkcd:grass green')\n",
    "plt.xlabel(\"timestep\")\n",
    "plt.title(\"Postion\")\n",
    "plt.savefig(\"/home/markjenei/polymerisation-coarse-graining/lj_test/trajectory_match/test_r_good.png\", bbox_inches=\"tight\")\n",
    "plt.show()"
   ],
   "metadata": {
    "collapsed": false,
    "pycharm": {
     "name": "#%%\n"
    }
   }
  },
  {
   "cell_type": "code",
   "execution_count": null,
   "outputs": [],
   "source": [
    "i = 0 # try self.t = 4 and i = 2 for good gamma explanation (lj_test_gamma_demo.out)\n",
    "asd = 500\n",
    "plt.plot(small_atom_tm.r[:, i, 0][350:480], lw=1.8, color='xkcd:burnt orange')\n",
    "plt.xlabel(\"timestep\")\n",
    "plt.title(\"Postion\")\n",
    "plt.savefig(\"/home/markjenei/polymerisation-coarse-graining/lj_test/trajectory_match/test_r_bad.png\", bbox_inches=\"tight\")\n",
    "plt.show()"
   ],
   "metadata": {
    "collapsed": false,
    "pycharm": {
     "name": "#%%\n"
    }
   }
  }
 ],
 "metadata": {
  "kernelspec": {
   "display_name": "Python 3",
   "language": "python",
   "name": "python3"
  },
  "language_info": {
   "codemirror_mode": {
    "name": "ipython",
    "version": 2
   },
   "file_extension": ".py",
   "mimetype": "text/x-python",
   "name": "python",
   "nbconvert_exporter": "python",
   "pygments_lexer": "ipython2",
   "version": "2.7.6"
  }
 },
 "nbformat": 4,
 "nbformat_minor": 0
}